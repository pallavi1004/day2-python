{
 "cells": [
  {
   "cell_type": "code",
   "execution_count": 3,
   "metadata": {},
   "outputs": [
    {
     "name": "stdout",
     "output_type": "stream",
     "text": [
      "hello world\n"
     ]
    }
   ],
   "source": [
    "a=\"hello world\"\n",
    "print(a)"
   ]
  },
  {
   "cell_type": "markdown",
   "metadata": {},
   "source": [
    "                                                    PYTHON\n",
    "    \n",
    "    \n",
    "-high level, interpreted,interactive, obj oriented scripting language.\n",
    "-highly readable.\n",
    "-developed by guido van rossum in late eighties in netherland.\n",
    "-derived from many other languages.\n",
    "-copyrighted.\n",
    "-source code available under GNU(GENERAL PUBLIC LICENSE).\n",
    "-few keywords, simple structure, clearly defined syntax.\n",
    "-easy to maintain.\n",
    "-provide interfaces to all commercial databases.\n",
    "-supports functional and structured programming methods as well as oop.\n",
    "-used as scripting language.\n",
    "-provides very high level dynamic data type and supports dynamic type checking.\n",
    "-supports automatic garbage collection.\n",
    "-easily integrated with c, c++,cobra , java.\n",
    "\n",
    "\n",
    "\n",
    "=>LIST OF ALL AVAILABLE COMMAND LINE.....\n",
    "\n",
    "    -d - provides debug output.\n",
    "    -O - generates optimized bytecode(resulting in .pyo files).\n",
    "    -S - do not run to import site to look for python paths on startup.\n",
    "    -v - verbose output(detailed strace on import statements).\n",
    "    -c cmd - run PYTHON script sent in as cmd string.\n",
    "    -file - run PYTHON script from given file.\n",
    "\n"
   ]
  },
  {
   "cell_type": "markdown",
   "metadata": {},
   "source": [
    "                                                PYTHON IDENTIFIER\n",
    "    \n",
    "-use to identify name, function, class, module, or other object.\n",
    "-start with letter A to Z or a to z or underscore(_) followed by zero or more letters or digits(0-9).\n",
    "-python does not allow punctuation characters such as @,$ and % within identifiers.\n",
    "-Class name start with uppercase.\n",
    "-all other identifier start with lowercase.\n",
    "-identifier start with single underscore(_) indicates private identifier.\n",
    "-starting identifier with two leading underscore strongly private identifier.\n"
   ]
  },
  {
   "cell_type": "markdown",
   "metadata": {},
   "source": [
    "                                                 PYTHON KEYWORDS\n",
    "    \n",
    "-reserved words.\n",
    "-one cannot use them as constant or variable or any other identifier names.\n",
    "-contain lowercase letters only.\n",
    "\n"
   ]
  },
  {
   "cell_type": "markdown",
   "metadata": {},
   "source": [
    "                                                lines and indentation\n",
    "    \n",
    "-blocks of code denoted by line indentation,which is rigidly enforced.\n",
    "-no. of spaces in indentation is variable.\n",
    "-all statement within the block must be indented the same amount.\n",
    "\n"
   ]
  },
  {
   "cell_type": "markdown",
   "metadata": {},
   "source": [
    "                                                multi-line statement\n",
    "    \n",
    "-python allows use of line continuation character (\\) to denote  that line should be continue.\n",
    "\n",
    "ex.-\n",
    "     total = item_one + \\\n",
    "             item_two + \\\n",
    "             item_three\n",
    "    \n",
    "-statement contained within {}[]() brackets do not need to use line continuation character.\n",
    "\n",
    "ex.-\n",
    "     days = ['monday', 'tuesday', 'wednesday',\n",
    "            'thursday', 'friday']\n",
    "    \n",
    "    "
   ]
  },
  {
   "cell_type": "markdown",
   "metadata": {},
   "source": [
    "                                                quotation in python\n",
    "    \n",
    "-python accept single('') double(\"\") and triple (''''''/\"\"\"\"\"\") quote.\n",
    "-triple quote use to span string across multiple lines.\n",
    "\n",
    "ex.-\n",
    "    word = 'word'\n",
    "    sentence = \"This is a sentence.\"\n",
    "    paragragh = \"\"\" This is a paragragh. It is\n",
    "                made up of multiple lines and sentences.\"\"\"\n",
    "    \n",
    "    "
   ]
  },
  {
   "cell_type": "markdown",
   "metadata": {},
   "source": [
    "                                         multiple statements on single line\n",
    "    \n",
    "-semicolon allows multiple statements in single line. "
   ]
  },
  {
   "cell_type": "markdown",
   "metadata": {},
   "source": [
    "                                                    VARIABLE TYPES\n",
    "                                                    \n",
    "\n",
    "-reserved memory locations to store values.\n",
    "-based on data type of varible, interpreter allocates memory and decides what can be store in reserved memory.\n",
    "\n",
    "                                                STANDARD DATA TYPES\n",
    "                                               \n",
    "-data stored in memory can be many types.\n",
    "\n",
    "=> PYTHON HAS FIVE STANDARD DATATYPES -\n",
    "    -Numbers\n",
    "    -Strings\n",
    "    -List\n",
    "    -Tuple\n",
    "    -Dictionary\n",
    "    \n",
    "=> Python supports four different numerical types -\n",
    "    -integer\n",
    "    -long\n",
    "    -float\n",
    "    -complex\n",
    "    \n",
    "=>Python Strings -\n",
    "    -string in python identified a contigious set of characters represented in quotation mark.\n",
    "    -plus sign(+) is string concatination operator and asterik (*) is repetition operator.\n",
    "    "
   ]
  },
  {
   "cell_type": "code",
   "execution_count": 14,
   "metadata": {},
   "outputs": [
    {
     "name": "stdout",
     "output_type": "stream",
     "text": [
      "Hello world!\n",
      "H\n",
      "llo\n",
      "llo world!\n",
      "Hello world!Hello world!\n",
      "Hello world!TEST\n"
     ]
    }
   ],
   "source": [
    "    str ='Hello world!'\n",
    "    print (str)\n",
    "    print (str[0])\n",
    "    print (str[2:5])\n",
    "    print (str[2:])\n",
    "    print (str * 2)\n",
    "    print (str + \"TEST\")"
   ]
  },
  {
   "cell_type": "markdown",
   "metadata": {},
   "source": [
    "                                                    Python List\n",
    "    \n",
    "-List are most versatile python's compound datatype.\n",
    "-list contained items seperated by commas and enclosed within square brackets([]).\n",
    "-list are similar to arrays in C.\n",
    "-indexes starting at 0 in the beginning of the list and working their way to end -1.\n",
    "-plus (+) sign is the list concatenation operator, and the asterisk (*) is the repetition operator.\n"
   ]
  },
  {
   "cell_type": "code",
   "execution_count": 23,
   "metadata": {},
   "outputs": [
    {
     "name": "stdout",
     "output_type": "stream",
     "text": [
      "['abcd', 786, 2.23, 'john', 70.2]\n",
      "abcd\n",
      "[786, 2.23]\n",
      "[2.23, 'john', 70.2]\n",
      "[123, 'john', 123, 'john']\n",
      "['abcd', 786, 2.23, 'john', 70.2, 123, 'john']\n"
     ]
    }
   ],
   "source": [
    "list = ['abcd', 786, 2.23, 'john', 70.2]\n",
    "tinylist = [123, 'john']\n",
    "\n",
    "print (list)\n",
    "print (list[0])\n",
    "print(list[1:3])\n",
    "print(list[2:])\n",
    "print(tinylist *2)\n",
    "print(list+tinylist)"
   ]
  },
  {
   "cell_type": "markdown",
   "metadata": {},
   "source": [
    "                                                    Python Tuple\n",
    "    \n",
    "-tuple is another sequence datatype similar to list.\n",
    "-no. of values seperated by commas enclosed within parantheses.\n",
    "-tuples are enclosed in round brackets ().\n",
    "-tuple can be read only list."
   ]
  },
  {
   "cell_type": "code",
   "execution_count": 26,
   "metadata": {},
   "outputs": [
    {
     "name": "stdout",
     "output_type": "stream",
     "text": [
      "('abcd', 786, 2.23, 'john', 70.2)\n",
      "abcd\n",
      "(786, 2.23)\n",
      "(2.23, 'john', 70.2)\n",
      "(123, 'john', 123, 'john')\n",
      "('abcd', 786, 2.23, 'john', 70.2, 123, 'john')\n"
     ]
    }
   ],
   "source": [
    "tuple = ( 'abcd', 786 , 2.23, 'john', 70.2 )\n",
    "tinytuple = (123, 'john')\n",
    "\n",
    "print (tuple) \n",
    "print (tuple[0] )\n",
    "print (tuple[1:3]) \n",
    "print (tuple[2:])\n",
    "print (tinytuple * 2) \n",
    "print (tuple + tinytuple)"
   ]
  },
  {
   "cell_type": "markdown",
   "metadata": {},
   "source": [
    "                                                    Python Dictionary\n",
    "    \n",
    "-are kind of hash table type.\n",
    "-work like associative array or hashes found in perl and consist of key-value pairs.\n",
    "-dictionary key can be any python type but are usually numbers or strings.\n",
    "-values can be arbitary python object.\n",
    "-dictionary enclosed in {}.\n",
    "-values can be assigned and accessed using square braces([]).\n"
   ]
  },
  {
   "cell_type": "code",
   "execution_count": 28,
   "metadata": {},
   "outputs": [
    {
     "name": "stdout",
     "output_type": "stream",
     "text": [
      "This is one\n",
      "This is two\n",
      "{'name': 'john', 'code': 6734, 'dept': 'sales'}\n",
      "dict_keys(['name', 'code', 'dept'])\n",
      "dict_values(['john', 6734, 'sales'])\n"
     ]
    }
   ],
   "source": [
    "dict = {}\n",
    "dict['one'] = \"This is one\"\n",
    "dict[2] = \"This is two\"\n",
    "tinydict = {'name': 'john','code':6734, 'dept': 'sales'}\n",
    "\n",
    "print (dict['one'])\n",
    "print (dict[2]) \n",
    "print (tinydict)\n",
    "print (tinydict.keys()) \n",
    "print (tinydict.values())"
   ]
  },
  {
   "cell_type": "markdown",
   "metadata": {},
   "source": [
    "                                                Data type conversion\n",
    "    \n",
    "-sometimes you need to perform conversions between built in types.\n",
    "-to convert between types , use type name as a function.\n",
    "-there are several built in functions to perform conversion from one datatype to another.\n",
    "-these functions return new object representing converted value.\n"
   ]
  },
  {
   "cell_type": "markdown",
   "metadata": {},
   "source": [
    "                                                    Basic Operators\n",
    "    \n",
    "-operators are contructs which can manipulate value of operands.\n",
    "\n",
    "=>Python supports following types of operator -\n",
    "    -Arithmatic operator\n",
    "    -Comparison operator\n",
    "    -Assignment operator\n",
    "    -Logical operator\n",
    "    -Bitwise operator\n",
    "    -Membership operator\n",
    "    -Identity operator\n",
    "    \n",
    "    \n",
    "=>Arithmatic operator-\n",
    "        \n",
    "        a=10 b=20\n",
    "    \n",
    "    -Addition-(a+b)\n",
    "    -Subtraction-(a-b)\n",
    "    -multiplication- (a*b)\n",
    "    -division-(b/a)\n",
    "    -modulus-(b%a)=0\n",
    "    -exponent-(a**b)= 10 to the power 20\n",
    "    -floor division-(9//2)=4 and 9.0//2.0=4.0\n",
    "    "
   ]
  },
  {
   "cell_type": "code",
   "execution_count": 34,
   "metadata": {},
   "outputs": [
    {
     "name": "stdout",
     "output_type": "stream",
     "text": [
      "Line 1 - Value of c is  31\n",
      "Line 2 - Value of c is  11\n",
      "Line 3 - Value of c is  210\n",
      "Line 4 - Value of c is  2.1\n",
      "Line 5 - Value of c is  1\n",
      "Line 6 - Value of c is  8\n",
      "Line 7 - Value of c is  2\n"
     ]
    }
   ],
   "source": [
    "a = 21\n",
    "b = 10\n",
    "c = 0\n",
    "c = a + b\n",
    "print (\"Line 1 - Value of c is \", c)\n",
    "c = a - b\n",
    "print (\"Line 2 - Value of c is \", c)\n",
    "c = a * b\n",
    "print (\"Line 3 - Value of c is \", c)\n",
    "c = a / b\n",
    "print (\"Line 4 - Value of c is \", c)\n",
    "c = a % b\n",
    "print (\"Line 5 - Value of c is \", c)\n",
    "a = 2\n",
    "b = 3\n",
    "c = a**b\n",
    "print (\"Line 6 - Value of c is \", c)\n",
    "a = 10\n",
    "b = 5\n",
    "c = a//b\n",
    "print (\"Line 7 - Value of c is \", c)"
   ]
  },
  {
   "cell_type": "code",
   "execution_count": null,
   "metadata": {},
   "outputs": [],
   "source": [
    "                                                    Comparision operator\n",
    "    \n"
   ]
  }
 ],
 "metadata": {
  "kernelspec": {
   "display_name": "Python 3",
   "language": "python",
   "name": "python3"
  },
  "language_info": {
   "codemirror_mode": {
    "name": "ipython",
    "version": 3
   },
   "file_extension": ".py",
   "mimetype": "text/x-python",
   "name": "python",
   "nbconvert_exporter": "python",
   "pygments_lexer": "ipython3",
   "version": "3.8.5"
  }
 },
 "nbformat": 4,
 "nbformat_minor": 4
}
